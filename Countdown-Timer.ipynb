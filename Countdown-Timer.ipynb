{
 "cells": [
  {
   "cell_type": "code",
   "execution_count": 4,
   "metadata": {},
   "outputs": [],
   "source": [
    "#Count down Timer"
   ]
  },
  {
   "cell_type": "code",
   "execution_count": 5,
   "metadata": {},
   "outputs": [],
   "source": [
    "import time"
   ]
  },
  {
   "cell_type": "code",
   "execution_count": 11,
   "metadata": {},
   "outputs": [
    {
     "name": "stdout",
     "output_type": "stream",
     "text": [
      "How many seconds to wait?12\n",
      "12seconds remain\n",
      "11seconds remain\n",
      "10seconds remain\n",
      "9seconds remain\n",
      "8seconds remain\n",
      "7seconds remain\n",
      "6seconds remain\n",
      "5seconds remain\n",
      "4seconds remain\n",
      "3seconds remain\n",
      "2seconds remain\n",
      "1seconds remain\n"
     ]
    }
   ],
   "source": [
    "seconds = int(input(\"How many seconds to wait?\"))\n",
    "for i in range(seconds):\n",
    "    print(str(seconds - i) + \"seconds remain\")\n",
    "    time.sleep(1)"
   ]
  },
  {
   "cell_type": "code",
   "execution_count": null,
   "metadata": {},
   "outputs": [],
   "source": []
  }
 ],
 "metadata": {
  "kernelspec": {
   "display_name": "Python 3",
   "language": "python",
   "name": "python3"
  },
  "language_info": {
   "codemirror_mode": {
    "name": "ipython",
    "version": 3
   },
   "file_extension": ".py",
   "mimetype": "text/x-python",
   "name": "python",
   "nbconvert_exporter": "python",
   "pygments_lexer": "ipython3",
   "version": "3.8.3"
  }
 },
 "nbformat": 4,
 "nbformat_minor": 4
}
